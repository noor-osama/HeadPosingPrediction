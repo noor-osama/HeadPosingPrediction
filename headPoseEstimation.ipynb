{
 "cells": [
  {
   "cell_type": "markdown",
   "metadata": {},
   "source": [
    "#  Some Installations First "
   ]
  },
  {
   "cell_type": "code",
   "execution_count": null,
   "metadata": {
    "id": "GIjXJ76VjZbW"
   },
   "outputs": [],
   "source": [
    "%%capture\n",
    "!pip install mediapipe"
   ]
  },
  {
   "cell_type": "markdown",
   "metadata": {},
   "source": [
    "#  Get Data from URL "
   ]
  },
  {
   "cell_type": "code",
   "execution_count": null,
   "metadata": {
    "colab": {
     "base_uri": "https://localhost:8080/"
    },
    "id": "qt-iB6nCjiJ5",
    "outputId": "93e2f3bb-45e5-4053-e7c0-4c552b99e19e"
   },
   "outputs": [],
   "source": [
    "!wget http://www.cbsr.ia.ac.cn/users/xiangyuzhu/projects/3DDFA/Database/AFLW2000-3D.zip\n",
    "!unzip AFLW2000-3D.zip"
   ]
  },
  {
   "cell_type": "markdown",
   "metadata": {},
   "source": [
    "# Required Libraries "
   ]
  },
  {
   "cell_type": "code",
   "execution_count": null,
   "metadata": {
    "id": "4XYKvtvAjm6r"
   },
   "outputs": [],
   "source": [
    "import numpy as np\n",
    "import os,cv2,math,glob,random\n",
    "import scipy.io as sio\n",
    "from math import cos, sin\n",
    "import dlib\n",
    "from math import cos, sin\n",
    "from pathlib import Path\n",
    "import pandas as pd\n",
    "import mediapipe\n",
    "from google.colab.patches import cv2_imshow #when using colab\n",
    "import glob\n",
    "from pathlib import Path\n",
    "from PIL import Image, ImageFilter\n",
    "\n",
    "from sklearn.model_selection import train_test_split\n",
    "from sklearn.svm import SVR\n",
    "from sklearn.metrics import mean_squared_error ,r2_score\n",
    "\n",
    "import warnings\n",
    "warnings.filterwarnings('ignore')"
   ]
  },
  {
   "cell_type": "markdown",
   "metadata": {},
   "source": [
    "# Load Data "
   ]
  },
  {
   "cell_type": "code",
   "execution_count": null,
   "metadata": {
    "colab": {
     "base_uri": "https://localhost:8080/"
    },
    "id": "qHQI-i9SjqBU",
    "outputId": "0455b352-020e-44f0-9ea5-469275c56b15"
   },
   "outputs": [],
   "source": [
    "mylist = [Path(f).stem for f in glob.glob(\"AFLW2000/*.mat\")]\n",
    "sio.loadmat(os.path.join('AFLW2000/',mylist[0]))"
   ]
  },
  {
   "cell_type": "code",
   "execution_count": null,
   "metadata": {
    "id": "2BOQjLiYjw38"
   },
   "outputs": [],
   "source": [
    "def get_list_from_filenames(file_path):\n",
    "    # input:    relative path to .txt file with file names\n",
    "    # output:   list of relative path names\n",
    "    lines = [Path(f).stem for f in glob.glob(file_path)]\n",
    "    return lines"
   ]
  },
  {
   "cell_type": "code",
   "execution_count": null,
   "metadata": {
    "colab": {
     "base_uri": "https://localhost:8080/"
    },
    "id": "vbSt0Zz3yBNh",
    "outputId": "d3eafd26-2409-4a8b-85c3-baa8c5f0cd75"
   },
   "outputs": [],
   "source": [
    "images = get_list_from_filenames(\"AFLW2000/*.jpg\")\n",
    "images"
   ]
  },
  {
   "cell_type": "markdown",
   "metadata": {},
   "source": [
    "## 1. extract pitch , yaw and roll from matlab file"
   ]
  },
  {
   "cell_type": "code",
   "execution_count": null,
   "metadata": {
    "id": "ONSrRzIQjx1S"
   },
   "outputs": [],
   "source": [
    "def get_ypr_from_mat(mat_path):\n",
    "    # Get yaw, pitch, roll from .mat annotation.\n",
    "    # They are in radians\n",
    "    mat = sio.loadmat(mat_path)\n",
    "    # [pitch yaw roll tdx tdy tdz scale_factor]\n",
    "    pre_pose_params = mat['Pose_Para'][0]\n",
    "    # Get [pitch, yaw, roll]\n",
    "    pose_params = pre_pose_params[:3]\n",
    "    return pose_params"
   ]
  },
  {
   "cell_type": "markdown",
   "metadata": {},
   "source": [
    "## 2. extract data points from each image "
   ]
  },
  {
   "cell_type": "code",
   "execution_count": null,
   "metadata": {
    "id": "kC8yp7UJsQNI"
   },
   "outputs": [],
   "source": [
    "def get_imageData (r):\n",
    "  random_file = r\n",
    "  list_x = []\n",
    "  list_y = []\n",
    "  result = pd.DataFrame()\n",
    "  xs = ['x'+str(i) for i in range(1,469)]\n",
    "  ys = ['y'+str(i) for i in range(1,469)]\n",
    "  labels = ['pitch', 'yaw', 'roll']\n",
    "  column_names = xs + ys + labels\n",
    "\n",
    "\n",
    "    \n",
    "  faceModule = mediapipe.solutions.face_mesh\n",
    "      # loading image and its correspinding mat file\n",
    "  with faceModule.FaceMesh(static_image_mode=True,max_num_faces=1) as faces:\n",
    "          # loading the image\n",
    "          image = cv2.imread('/content/AFLW2000/'+random_file+'.jpg')\n",
    "          # processing the face to extract the landmark points (468 point) for each x,y,z\n",
    "          results = faces.process(cv2.cvtColor(image, cv2.COLOR_BGR2RGB))\n",
    "          if results.multi_face_landmarks != None: \n",
    "            # looping over the faces in the image\n",
    "            for face in results.multi_face_landmarks:\n",
    "                for landmark in face.landmark:\n",
    "                    x = landmark.x\n",
    "                    y = landmark.y\n",
    "                    shape = image.shape \n",
    "                    relative_x = int(x * shape[1])\n",
    "                    list_x = np.append(list_x,int(relative_x))\n",
    "                    relative_y = int(y * shape[0])\n",
    "                    list_y = np.append(list_y,relative_y) \n",
    "                    \n",
    "                    x = pd.DataFrame(list_x.reshape(1,-1))\n",
    "                    y = pd.DataFrame(list_y.reshape(1,-1))\n",
    "                    xy = pd.DataFrame(pd.concat([x, y], join='inner', axis=1))\n",
    "                    pyr=pd.DataFrame(get_ypr_from_mat('AFLW2000/' + random_file + '.mat').reshape(1,-1))\n",
    "                    result = pd.DataFrame(pd.concat([xy, pyr], join='inner', axis=1))\n",
    "  \n",
    "  if len(list_x) != 0 :\n",
    "    result.columns = column_names  \n",
    "    return len(list_x),result\n",
    "  else : \n",
    "    return 0 ,0\n",
    "    "
   ]
  },
  {
   "cell_type": "markdown",
   "metadata": {},
   "source": [
    "## 3. data preprocessing and normalization"
   ]
  },
  {
   "cell_type": "code",
   "execution_count": null,
   "metadata": {
    "colab": {
     "base_uri": "https://localhost:8080/",
     "height": 1000
    },
    "id": "HlVS3UyWC5Qs",
    "outputId": "afea03aa-8654-47f2-81e2-aac0421e8be0"
   },
   "outputs": [],
   "source": [
    "images = get_list_from_filenames(\"AFLW2000/*.jpg\")\n",
    "final = pd.DataFrame ()\n",
    "\n",
    "\n",
    "for img in images :\n",
    "    length,d = get_imageData (img)\n",
    "    if length != 0 :\n",
    "          final = final.append(d, ignore_index=True)\n",
    "    else :\n",
    "          idx = images.index(img)\n",
    "  \n",
    "final.to_csv('data.csv',index=False)\n"
   ]
  },
  {
   "cell_type": "markdown",
   "metadata": {},
   "source": [
    "***NOTE* : It takes too long to extract data from images , so the csv file \"data_img\" cantains the dataframe of all the features and all labels .**"
   ]
  },
  {
   "cell_type": "code",
   "execution_count": null,
   "metadata": {
    "colab": {
     "base_uri": "https://localhost:8080/"
    },
    "id": "M_Aq43_g9Mh2",
    "outputId": "fae0f349-228f-402f-e7dc-e3c7f7b11922"
   },
   "outputs": [],
   "source": [
    "data = pd.read_csv('data_img.csv')\n",
    "\n",
    "X = data.iloc[:,:-3]\n",
    "pitch =pd.DataFrame(data.iloc[:,-3])\n",
    "yaw =pd.DataFrame(data.iloc[:,-2])\n",
    "roll =pd.DataFrame(data.iloc[:,-1])\n",
    "\n"
   ]
  },
  {
   "cell_type": "code",
   "execution_count": null,
   "metadata": {
    "id": "otXbkQ7B8MW9"
   },
   "outputs": [],
   "source": [
    "df = X.copy()\n",
    "\n",
    "x_norm = X.loc[:,'x2']\n",
    "y_norm = X.loc[:,'y2']\n"
   ]
  },
  {
   "cell_type": "code",
   "execution_count": null,
   "metadata": {
    "colab": {
     "base_uri": "https://localhost:8080/"
    },
    "id": "18NA5qOErOby",
    "outputId": "c324d1f2-00f2-4530-d53c-e209b72775ea"
   },
   "outputs": [],
   "source": [
    "import re\n",
    "for i in df.columns:\n",
    "  if re.search('x', i):\n",
    "    df[i] = df[i] - x_norm    \n",
    "  if re.search('y', i):\n",
    "    df[i] = df[i] - y_norm\n",
    "\n",
    "\n",
    "\n"
   ]
  },
  {
   "cell_type": "code",
   "execution_count": null,
   "metadata": {
    "id": "jQWvtWzswe51"
   },
   "outputs": [],
   "source": [
    "\n",
    "ratio = ((df.x10 ** 2 ) +   (df.y10 ** 2 ) ** 0.5)\n",
    "ratio\n",
    "normalized_df = df.copy()\n",
    "normalized_df.shape\n",
    "for i in normalized_df.columns:\n",
    "    normalized_df[i] = normalized_df[i] / ratio  \n",
    "\n",
    "normalized_df.head()\n",
    "normalized_df.to_csv('normal_data.csv',index=False)"
   ]
  },
  {
   "cell_type": "code",
   "execution_count": null,
   "metadata": {
    "colab": {
     "base_uri": "https://localhost:8080/"
    },
    "id": "egkVsWu_wA47",
    "outputId": "2f71fabb-43e0-49d3-ddb0-5afd7e665d30"
   },
   "outputs": [],
   "source": [
    "normalized_df = pd.read_csv('normal_data.csv')\n",
    "normalized_df.shape"
   ]
  },
  {
   "cell_type": "markdown",
   "metadata": {},
   "source": [
    "##  4. train 3 different SVR to predict pitch ,yaw , roll "
   ]
  },
  {
   "cell_type": "code",
   "execution_count": null,
   "metadata": {
    "colab": {
     "base_uri": "https://localhost:8080/"
    },
    "id": "SrgMeAJi7VcP",
    "outputId": "2c5e31aa-658b-43bb-aaa6-7a3a241026c8"
   },
   "outputs": [],
   "source": [
    "from sklearn.preprocessing import StandardScaler\n",
    "#train_test_spilt\n",
    "Xp_train, Xp_test, p_train, p_test = train_test_split(normalized_df, pitch, test_size=0.2, random_state=42)\n",
    "# pitch prediction\n",
    "scaler = StandardScaler()\n",
    "Xp_scale=scaler.fit_transform(Xp_train)\n",
    "p_reg =SVR(C=10, degree = 4)\n",
    "p_reg.fit(Xp_scale, p_train)\n",
    "p_pred = pd.DataFrame(p_reg.predict (Xp_test))\n",
    "p_pred.columns = [\"pitch\"]\n",
    "p_pred\n",
    "#########################################\n",
    "#train \n",
    "msP = mean_squared_error(p_train,pd.DataFrame(p_reg.predict (Xp_train)))\n",
    "print(\"MSE of Training : %.2f\" %msP)\n",
    "rP = r2_score( p_train,pd.DataFrame(p_reg.predict (Xp_train)) )\n",
    "print(\"R2 score of Training : %.2f\" %rP)\n",
    "#MSE \n",
    "mseP = mean_squared_error(p_test,p_pred)\n",
    "print(\"MSE of pitch : %.2f\" %mseP)\n",
    "r2P = r2_score(p_test,p_pred)\n",
    "print(\"R2 score of pitch : %.2f\" %r2P)\n",
    "\n",
    "\n",
    "\n",
    "# Note : r2-score is not effictive when it is not linear Regression "
   ]
  },
  {
   "cell_type": "code",
   "execution_count": null,
   "metadata": {
    "colab": {
     "base_uri": "https://localhost:8080/"
    },
    "id": "TwOlENRsXdJ9",
    "outputId": "673345b7-48f6-43c5-8bb7-07689d41c7b9"
   },
   "outputs": [],
   "source": [
    "#train_test_spilt\n",
    "Xy_train, Xy_test, y_train, y_test = train_test_split(normalized_df, yaw, test_size=0.33, random_state=42)\n",
    "# yaw prediction\n",
    "y_reg =SVR(C=1.0, epsilon=0.2)\n",
    "y_reg.fit(Xy_train, y_train)\n",
    "y_pred = pd.DataFrame(y_reg.predict (Xy_test))\n",
    "y_pred.columns = [\"yaw\"]\n",
    "y_pred\n",
    "####################################\n",
    "#train\n",
    "msY =mean_squared_error(y_train,pd.DataFrame(y_reg.predict (Xy_train)))\n",
    "print(\"MSE of Training  : %.2f\" %msY)\n",
    "rY =r2_score(y_train,pd.DataFrame(y_reg.predict (Xy_train)))\n",
    "print(\"R2 score of Training : %.2f\" % rY)\n",
    "#MSE \n",
    "mseY =mean_squared_error(y_test,y_pred)\n",
    "print(\"MSE of yaw  : %.2f\" %mseY)\n",
    "r2Y =r2_score(y_test,y_pred)\n",
    "print(\"R2 score of yaw : %.2f\" % r2Y)"
   ]
  },
  {
   "cell_type": "code",
   "execution_count": null,
   "metadata": {
    "colab": {
     "base_uri": "https://localhost:8080/"
    },
    "id": "MzE_ot0tXf0p",
    "outputId": "de5878c4-0bbf-4428-f50f-5156a429c532"
   },
   "outputs": [],
   "source": [
    "#train_test_spilt\n",
    "Xr_train, Xr_test, r_train, r_test = train_test_split(normalized_df, roll, test_size=0.33, random_state=42)\n",
    "# roll prediction\n",
    "r_reg =SVR(C=1.0, epsilon=0.2,degree = 5)\n",
    "r_reg.fit(Xr_train, r_train)\n",
    "r_pred = pd.DataFrame(r_reg.predict (Xr_test))\n",
    "r_pred.columns = [\"roll\"]\n",
    "r_pred\n",
    "#################################\n",
    "#train\n",
    "msR =mean_squared_error(r_train,pd.DataFrame(r_reg.predict (Xr_train)))\n",
    "print(\"MSE of Training  : %.2f\" %msR)\n",
    "rR =r2_score(r_train,pd.DataFrame(r_reg.predict (Xr_train)))\n",
    "print(\"R2 score of Training : %.2f\" % rR)\n",
    "#MSE \n",
    "mseR =mean_squared_error(r_test,r_pred)\n",
    "print(\"MSE of roll  : %.2f\" %mseR)\n",
    "r2R =r2_score(r_test,r_pred)\n",
    "print(\"R2 score of roll : %.2f\" % r2R)"
   ]
  },
  {
   "cell_type": "markdown",
   "metadata": {},
   "source": [
    "## 5. prepare test data from frames of video "
   ]
  },
  {
   "cell_type": "code",
   "execution_count": null,
   "metadata": {
    "id": "5_2OE_pQdxqT"
   },
   "outputs": [],
   "source": [
    "def get_testData (r):\n",
    "  \n",
    "  list_x = []\n",
    "  list_y = []\n",
    "  result = pd.DataFrame()\n",
    "    \n",
    "  xs = ['x'+str(i) for i in range(1,469)]\n",
    "  ys = ['y'+str(i) for i in range(1,469)]\n",
    "  column_names = xs + ys \n",
    "\n",
    "\n",
    "    \n",
    "  faceModule = mediapipe.solutions.face_mesh\n",
    "      # loading image and its correspinding mat file\n",
    "  with faceModule.FaceMesh(static_image_mode=True,max_num_faces=1) as faces:\n",
    "          # loading the image\n",
    "          image = r\n",
    "          \n",
    "          # processing the face to extract the landmark points (468 point) for each x,y,z\n",
    "          results = faces.process(cv2.cvtColor(image, cv2.COLOR_BGR2RGB))\n",
    "          \n",
    "          if results.multi_face_landmarks != None: \n",
    "            # looping over the faces in the image\n",
    "            for face in results.multi_face_landmarks:\n",
    "                for landmark in face.landmark:\n",
    "                    x = landmark.x\n",
    "                    y = landmark.y\n",
    "                    shape = image.shape \n",
    "                    relative_x = int(x * shape[1])\n",
    "                    list_x = np.append(list_x,int(relative_x))\n",
    "                    relative_y = int(y * shape[0])\n",
    "                    list_y = np.append(list_y,relative_y) \n",
    "                   \n",
    "                    x = pd.DataFrame(list_x.reshape(1,-1))\n",
    "                    y = pd.DataFrame(list_y.reshape(1,-1))\n",
    "                    xy = pd.DataFrame(pd.concat([x, y], join='inner', axis=1))\n",
    "                    #cv2.putText(image, str(relative_y), (int(relative_x),int(relative_y)), cv2.FONT_HERSHEY_SIMPLEX, 0.4, (0,255,0), 2)\n",
    "                    #cv2.circle(image, (relative_x, relative_y), radius=1, color=(0, 255, 0), thickness=2)\n",
    " \n",
    "  if len(list_x) != 0 :\n",
    "    xy.columns = column_names  \n",
    "    return len(list_x),xy\n",
    "  else : \n",
    "    return 0 ,0"
   ]
  },
  {
   "cell_type": "code",
   "execution_count": null,
   "metadata": {
    "id": "sClgB668EHKk"
   },
   "outputs": [],
   "source": [
    "\n",
    "def prepare_frame (frame):\n",
    "\n",
    "        t = pd.DataFrame ()\n",
    "        \n",
    "\n",
    "        nx,d = get_testData (frame)\n",
    "        if nx != 0 :\n",
    "          t = t.append(d, ignore_index=True)\n",
    "        else :\n",
    "          output =  frame \n",
    "        t.to_csv('test_data.csv',index=False)\n",
    "        test = pd.read_csv ('test_data.csv')\n",
    "        arr = np.array(test)\n",
    "        x_origin = arr[0][1]\n",
    "        y_origin = arr[0][469]\n",
    "\n",
    "\n",
    "\n",
    "        import re\n",
    "        for idx in test.columns:\n",
    "          if re.search('x', idx):\n",
    "            test[idx] = test[idx] - x_origin    \n",
    "          if re.search('y', idx):\n",
    "            test[idx] = test[idx] - y_origin\n",
    "\n",
    "        t_ratio = ((test.x10 ** 2 ) +   (test.y10 ** 2 ) ** 0.5)\n",
    "\n",
    "        normalized_test= test.copy()\n",
    "      \n",
    "        for i in normalized_test.columns:\n",
    "            normalized_test[i] = normalized_test[i] / ratio  \n",
    "     \n",
    "        p1=p_reg.predict (normalized_test)\n",
    "        y1=y_reg.predict (normalized_test)\n",
    "        r1=r_reg.predict (normalized_test)\n",
    "      \n",
    "        return p1 , y1 , r1 , x_origin ,  y_origin\n",
    " "
   ]
  },
  {
   "cell_type": "markdown",
   "metadata": {},
   "source": [
    "## 6. prepare and smoth frames with predicted pitch , yaw , roll "
   ]
  },
  {
   "cell_type": "code",
   "execution_count": null,
   "metadata": {
    "id": "wvidaNwi1g78"
   },
   "outputs": [],
   "source": [
    "def smothing (frame):\n",
    "  p_list = []\n",
    "  y_list = []\n",
    "  r_list = []\n",
    "  for i in range (5):\n",
    "    p,y,r,xx,yy = prepare_frame (frame)\n",
    "    p_list.append (p)\n",
    "    y_list.append (y)\n",
    "    r_list.append (r)\n",
    "   \n",
    "  avg_p = sum(p_list) / len (p_list) \n",
    "  avg_y = sum(y_list) / len (y_list) \n",
    "  avg_r = sum(r_list) / len (r_list) \n",
    "\n",
    "  return avg_p ,avg_y,avg_r,xx,yy"
   ]
  },
  {
   "cell_type": "code",
   "execution_count": null,
   "metadata": {
    "id": "AES5tqdKDu0R"
   },
   "outputs": [],
   "source": [
    "def draw_axis(img, pitch,yaw,roll, tdx=None, tdy=None, size = 100):\n",
    "\n",
    "    yaw = -yaw\n",
    "    if tdx != None and tdy != None:\n",
    "        tdx = tdx\n",
    "        tdy = tdy\n",
    "    else:\n",
    "        height, width = img.shape[:2]\n",
    "        tdx = width / 2\n",
    "        tdy = height / 2\n",
    "   \n",
    "    # X-Axis pointing to right. drawn in red\n",
    "    x1 = size * (cos(yaw) * cos(roll)) + tdx\n",
    "    y1 = size * (cos(pitch) * sin(roll) + cos(roll) * sin(pitch) * sin(yaw)) + tdy\n",
    "\n",
    "    # Y-Axis | drawn in green\n",
    "    #        v\n",
    "    x2 = size * (-cos(yaw) * sin(roll)) + tdx\n",
    "    y2 = size * (cos(pitch) * cos(roll) - sin(pitch) * sin(yaw) * sin(roll)) + tdy\n",
    "\n",
    "    # Z-Axis (out of the screen) drawn in blue\n",
    "    x3 = size * (sin(yaw)) + tdx\n",
    "    y3 = size * (-cos(yaw) * sin(pitch)) + tdy\n",
    "\n",
    "    cv2.line(img, (int(tdx), int(tdy)), (int(x1),int(y1)),(0,0,255),3)\n",
    "    cv2.line(img, (int(tdx), int(tdy)), (int(x2),int(y2)),(0,255,0),3)\n",
    "    cv2.line(img, (int(tdx), int(tdy)), (int(x3),int(y3)),(255,0,0),2)\n",
    "\n",
    "    return img"
   ]
  },
  {
   "cell_type": "code",
   "execution_count": null,
   "metadata": {
    "colab": {
     "base_uri": "https://localhost:8080/"
    },
    "id": "aON0yurs4vyD",
    "outputId": "a6a0b5ff-613b-4af5-b709-d1ca6220ff37"
   },
   "outputs": [],
   "source": [
    "#construct video from frames\n",
    "\n",
    "\n",
    "cap = cv2.VideoCapture(\"/content/noor.mp4\")\n",
    "\n",
    "\n",
    "# Get video metadata\n",
    "video_fps = cap.get(cv2.CAP_PROP_FPS),\n",
    "height = cap.get(cv2.CAP_PROP_FRAME_HEIGHT)\n",
    "width = cap.get(cv2.CAP_PROP_FRAME_WIDTH)\n",
    "\n",
    "\n",
    "out = cv2.VideoWriter('/content/final_isa.avi',cv2.VideoWriter_fourcc('M','J','P','G'), 30,  frameSize=(int(width), int(height)))\n",
    "while True:\n",
    "    ret, frame = cap.read()\n",
    "    if not ret: break \n",
    "   \n",
    "    #f = prepare_frame (frame)\n",
    "    p1,y1,r1,x_origin,y_origin =smothing (frame)\n",
    "    f = draw_axis(frame,p1,y1,r1,x_origin,y_origin)\n",
    "    out.write(f) # write frame\n",
    "\n",
    "    \n",
    "    \n",
    "        \n",
    "# release and destroy windows\n",
    "out.release()\n",
    "cap.release()\n",
    "cv2.destroyAllWindows()"
   ]
  },
  {
   "cell_type": "code",
   "execution_count": null,
   "metadata": {},
   "outputs": [],
   "source": [
    "#test video\n",
    "import ipywidgets as widgets\n",
    "gif_file = \"noor.gif\"\n",
    "display(widgets.HTML(f'<img src=\"{gif_file}\" width=\"750\" align=\"center\">'))"
   ]
  },
  {
   "cell_type": "code",
   "execution_count": null,
   "metadata": {
    "colab": {
     "base_uri": "https://localhost:8080/",
     "height": 1000
    },
    "id": "Mvwre7yFnctD",
    "outputId": "5064e5a3-96b8-4040-9912-dc2a238a2090"
   },
   "outputs": [],
   "source": [
    "#display the created vedio \n",
    "cap = cv2.VideoCapture(\"/content/final_isa.avi\")\n",
    "if (cap.isOpened()== False):\n",
    "  print(\"Error opening video stream or file\")\n",
    "\n",
    "\n",
    "# Read until video is completed\n",
    "while(cap.isOpened()):\n",
    "  # Capture frame-by-frame\n",
    "  ret, frame = cap.read()\n",
    "  if ret == True:\n",
    "\n",
    "    # Display the resulting frame\n",
    "    cv2_imshow(frame)\n",
    "\n",
    "    # Press Q on keyboard to  exit\n",
    "    if cv2.waitKey(25) & 0xFF == ord('q'):\n",
    "      break\n",
    "\n",
    "  # Break the loop\n",
    "  else: \n",
    "    break\n",
    "\n",
    "# When everything done, release the video capture object\n",
    "cap.release()\n",
    "\n",
    "# Closes all the frames\n",
    "cv2.destroyAllWindows()"
   ]
  },
  {
   "cell_type": "code",
   "execution_count": null,
   "metadata": {},
   "outputs": [],
   "source": [
    "#test video with Directions \n",
    "import ipywidgets as widgets\n",
    "gif_file = \"final_isa.gif\"\n",
    "display(widgets.HTML(f'<img src=\"{gif_file}\" width=\"750\" align=\"center\">'))"
   ]
  },
  {
   "cell_type": "code",
   "execution_count": null,
   "metadata": {},
   "outputs": [],
   "source": []
  }
 ],
 "metadata": {
  "colab": {
   "collapsed_sections": [],
   "name": "Copy of tan tan taa .ipynb",
   "provenance": []
  },
  "kernelspec": {
   "display_name": "Python 3 (ipykernel)",
   "language": "python",
   "name": "python3"
  },
  "language_info": {
   "codemirror_mode": {
    "name": "ipython",
    "version": 3
   },
   "file_extension": ".py",
   "mimetype": "text/x-python",
   "name": "python",
   "nbconvert_exporter": "python",
   "pygments_lexer": "ipython3",
   "version": "3.8.3"
  }
 },
 "nbformat": 4,
 "nbformat_minor": 1
}
